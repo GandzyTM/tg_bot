{
  "nbformat": 4,
  "nbformat_minor": 0,
  "metadata": {
    "colab": {
      "name": "tg-bot-ai.ipynb",
      "provenance": [],
      "authorship_tag": "ABX9TyN/nRGG8/EPb7SywusJmbMn",
      "include_colab_link": true
    },
    "kernelspec": {
      "name": "python3",
      "display_name": "Python 3"
    }
  },
  "cells": [
    {
      "cell_type": "markdown",
      "metadata": {
        "id": "view-in-github",
        "colab_type": "text"
      },
      "source": [
        "<a href=\"https://colab.research.google.com/github/GandzyTM/tg_bot/blob/main/tg_bot_ai.ipynb\" target=\"_parent\"><img src=\"https://colab.research.google.com/assets/colab-badge.svg\" alt=\"Open In Colab\"/></a>"
      ]
    },
    {
      "cell_type": "code",
      "metadata": {
        "id": "hSCsm-Rw5AMI"
      },
      "source": [
        "import random\n",
        "import nltk"
      ],
      "execution_count": 1,
      "outputs": []
    },
    {
      "cell_type": "code",
      "metadata": {
        "id": "XGoGYiFL7w2h"
      },
      "source": [
        "BOT_CONFIG = {\n",
        "    'intents': {\n",
        "        'hello': {\n",
        "            'examples': ['Привет', 'Добрый день', 'Приветик'],\n",
        "            'responses': ['Привет человек', 'хаюшки']\n",
        "        },\n",
        "        'bye': {\n",
        "            'examples': ['Пока', 'Покеда', 'Покусик'],\n",
        "            'responses': ['Всего доброго', 'Покедос', 'и вам не хворать']\n",
        "        },\n",
        "        'emergency_phone_kids': {\n",
        "            'examples': ['телефон детского врача', 'вызов детского врача'],\n",
        "            'responses': ['+73430000000']\n",
        "        },\n",
        "        'emergency_phone_adult': {\n",
        "            'examples': ['телефон взрослого врача', 'вызов взрослого врача', 'вызов врача для взрослого'],\n",
        "            'responses': ['+73430000001']\n",
        "        },\n",
        "\n",
        "    },\n",
        "    'failure_phrases': [\n",
        "       'Ne ponyatno',\n",
        "       'Ja esche y4yc',\n",
        "  ]\n",
        "}"
      ],
      "execution_count": 2,
      "outputs": []
    },
    {
      "cell_type": "markdown",
      "metadata": {
        "id": "jexZy2jIYkMw"
      },
      "source": [
        "проверка конфига"
      ]
    },
    {
      "cell_type": "code",
      "metadata": {
        "colab": {
          "base_uri": "https://localhost:8080/"
        },
        "id": "RM20WhxsXjNT",
        "outputId": "f7510ed0-683d-47e2-fe7e-515fc9e8094b"
      },
      "source": [
        "d = eval(\"{'a': 'b'}\")\n",
        "print(type(d), d)"
      ],
      "execution_count": 3,
      "outputs": [
        {
          "output_type": "stream",
          "text": [
            "<class 'dict'> {'a': 'b'}\n"
          ],
          "name": "stdout"
        }
      ]
    },
    {
      "cell_type": "markdown",
      "metadata": {
        "id": "Fi3oLPdtYoef"
      },
      "source": [
        "конец проверки конфига"
      ]
    },
    {
      "cell_type": "code",
      "metadata": {
        "id": "BNjkDL1YLeXB"
      },
      "source": [
        "def clear_text(text):\n",
        "  text = text.lower()\n",
        "  text = ''.join(char for char in text if char in 'ёйцукенгшщзхъфывапролджэячсмитьбю')\n",
        "  return text"
      ],
      "execution_count": 4,
      "outputs": []
    },
    {
      "cell_type": "code",
      "metadata": {
        "id": "vUpJDE0awfYK"
      },
      "source": [
        "def classify_intent(replica):\n",
        "  replica = clear_text(replica)\n",
        "\n",
        "  for intent, intent_data in BOT_CONFIG['intents'].items():\n",
        "    for example in intent_data['examples']:\n",
        "      example = clear_text(example)\n",
        "\n",
        "      distance = nltk.edit_distance(replica, example)\n",
        "      if distance / len(example) < 0.3 :\n",
        "        return intent"
      ],
      "execution_count": 5,
      "outputs": []
    },
    {
      "cell_type": "code",
      "metadata": {
        "colab": {
          "base_uri": "https://localhost:8080/",
          "height": 35
        },
        "id": "OYuwFmw9woUY",
        "outputId": "5c74ebd5-2de6-40d5-a69c-3e5ad4ddd29d"
      },
      "source": [
        "def get_answer_by_intent(intent):\n",
        "  if intent in BOT_CONFIG['intents']:\n",
        "    responses = BOT_CONFIG['intents'][intent]['responses']\n",
        "    return random.choice(responses)\n",
        "\n",
        "get_answer_by_intent('hello')"
      ],
      "execution_count": 6,
      "outputs": [
        {
          "output_type": "execute_result",
          "data": {
            "application/vnd.google.colaboratory.intrinsic+json": {
              "type": "string"
            },
            "text/plain": [
              "'Привет человек'"
            ]
          },
          "metadata": {
            "tags": []
          },
          "execution_count": 6
        }
      ]
    },
    {
      "cell_type": "code",
      "metadata": {
        "id": "h2kWApa2yapm"
      },
      "source": [
        "def generate_answer(replica):\n",
        "  # TODO\n",
        "  return"
      ],
      "execution_count": 7,
      "outputs": []
    },
    {
      "cell_type": "code",
      "metadata": {
        "id": "sr824yj5ymlG"
      },
      "source": [
        "def get_stub():\n",
        "  failure_phrases = BOT_CONFIG['failure_phrases']\n",
        "  return random.choice(failure_phrases)"
      ],
      "execution_count": 8,
      "outputs": []
    },
    {
      "cell_type": "code",
      "metadata": {
        "id": "tduS5er8r8rj"
      },
      "source": [
        "def bot(replica):\n",
        "  # NLU\n",
        "  intent = classify_intent(replica)\n",
        "\n",
        "  # get answer\n",
        "\n",
        "  # rules\n",
        "  if intent:\n",
        "    answer = get_answer_by_intent(intent)\n",
        "    if answer:\n",
        "      return answer\n",
        "  \n",
        "  # generative model\n",
        "  answer = generate_answer(replica)\n",
        "  if answer:\n",
        "    return answer\n",
        "  \n",
        "  # lock\n",
        "  answer = get_stub()\n",
        "  return answer"
      ],
      "execution_count": 9,
      "outputs": []
    },
    {
      "cell_type": "code",
      "metadata": {
        "colab": {
          "base_uri": "https://localhost:8080/"
        },
        "id": "VSkHJLPqzNgF",
        "outputId": "977b1f99-d7c7-4cef-b41e-bbbcd3e16313"
      },
      "source": [
        "print(bot('Пока'))"
      ],
      "execution_count": 10,
      "outputs": [
        {
          "output_type": "stream",
          "text": [
            "Покедос\n"
          ],
          "name": "stdout"
        }
      ]
    }
  ]
}
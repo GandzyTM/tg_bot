{
  "nbformat": 4,
  "nbformat_minor": 0,
  "metadata": {
    "colab": {
      "name": "Tensorflow.ipynb",
      "provenance": [],
      "collapsed_sections": [],
      "authorship_tag": "ABX9TyPaNZcxVBakJxmgNhznopKB",
      "include_colab_link": true
    },
    "kernelspec": {
      "name": "python3",
      "display_name": "Python 3"
    },
    "language_info": {
      "name": "python"
    }
  },
  "cells": [
    {
      "cell_type": "markdown",
      "metadata": {
        "id": "view-in-github",
        "colab_type": "text"
      },
      "source": [
        "<a href=\"https://colab.research.google.com/github/GandzyTM/tg_bot/blob/main/Tensorflow.ipynb\" target=\"_parent\"><img src=\"https://colab.research.google.com/assets/colab-badge.svg\" alt=\"Open In Colab\"/></a>"
      ]
    },
    {
      "cell_type": "code",
      "metadata": {
        "id": "FPLdzl48vcok"
      },
      "source": [
        "from tensorflow import keras\n",
        "from tensorflow.keras import layers\n",
        "from tensorflow.keras import Sequential\n",
        "from tensorflow.keras.layers import Conv2D, MaxPooling2D, Flatten, Dense, Dropout, Activation, BatchNormalization, AveragePooling2D\n",
        "from tensorflow.keras.optimizers import SGD, RMSprop, Adam\n",
        "import tensorflow_datasets as tfds  # pip install tensorflow-datasets\n",
        "import tensorflow as tf\n",
        "import logging\n",
        "import numpy as np\n",
        "import time\n"
      ],
      "execution_count": 1,
      "outputs": []
    },
    {
      "cell_type": "code",
      "metadata": {
        "id": "vQ2T6nq-wTOO"
      },
      "source": [
        "model = Sequential()\n",
        "model.add(Dense(4, input_dim=2, activation='relu'))\n",
        "model.add(Dense(1, activation='sigmoid'))\n",
        "model.compile(loss='binary_crossentropy', optimizer=SGD(learning_rate=0.1))"
      ],
      "execution_count": 2,
      "outputs": []
    },
    {
      "cell_type": "code",
      "metadata": {
        "colab": {
          "base_uri": "https://localhost:8080/"
        },
        "id": "dnLaGyNcw5v7",
        "outputId": "a5803021-42c5-4717-dea8-948a163d7602"
      },
      "source": [
        "X = np.array([[0,0], [0,1], [1,0], [1,1]])\n",
        "y = np.array([[0], [1], [1], [0]])\n",
        "model.fit(X, y, batch_size=1, epochs=1000, verbose=0)"
      ],
      "execution_count": 3,
      "outputs": [
        {
          "output_type": "execute_result",
          "data": {
            "text/plain": [
              "<tensorflow.python.keras.callbacks.History at 0x7fc27d1aff90>"
            ]
          },
          "metadata": {
            "tags": []
          },
          "execution_count": 3
        }
      ]
    },
    {
      "cell_type": "code",
      "metadata": {
        "id": "r3cpWsUnx1u4"
      },
      "source": [
        "def mnist_make_model(image_w: int, image_h: int):\n",
        "   # Neural network model\n",
        "   model = Sequential()\n",
        "   model.add(Dense(784, activation='relu', input_shape=(image_w*image_h,)))\n",
        "   model.add(Dense(10, activation='softmax'))\n",
        "   model.compile(loss='categorical_crossentropy', optimizer=RMSprop(), metrics=['accuracy'])\n",
        "   return model\n",
        "\n",
        "def mnist_make_model2(image_w: int, image_h: int):\n",
        "   # Neural network model\n",
        "   model = Sequential()\n",
        "   model.add(Dense(1024, activation='relu', input_shape=(image_w*image_h,)))\n",
        "   model.add(Dropout(0.2))  # rate 0.2 - set 20% of inputs to zero\n",
        "   model.add(Dense(1024, activation='relu'))\n",
        "   model.add(Dropout(0.2))\n",
        "   model.add(Dense(10, activation='softmax'))\n",
        "   model.compile(loss='categorical_crossentropy', optimizer=RMSprop(), metrics=['accuracy'])\n",
        "   return model"
      ],
      "execution_count": 4,
      "outputs": []
    },
    {
      "cell_type": "code",
      "metadata": {
        "id": "MzIm0n6ryF1j"
      },
      "source": [
        "def mnist_mlp_train(model):\n",
        "   (x_train, y_train), (x_test, y_test) = keras.datasets.mnist.load_data()\n",
        "   # x_train: 60000x28x28 array, x_test: 10000x28x28 array\n",
        "   image_size = x_train.shape[1]\n",
        "   train_data = x_train.reshape(x_train.shape[0], image_size*image_size)\n",
        "   test_data = x_test.reshape(x_test.shape[0], image_size*image_size)\n",
        "   train_data = train_data.astype('float32')\n",
        "   test_data = test_data.astype('float32')\n",
        "   train_data /= 255.0\n",
        "   test_data /= 255.0\n",
        "   # encode the labels - we have 10 output classes\n",
        "   # 3 -> [0 0 0 1 0 0 0 0 0 0], 5 -> [0 0 0 0 0 1 0 0 0 0]\n",
        "   num_classes = 10\n",
        "   train_labels_cat = keras.utils.to_categorical(y_train, num_classes)\n",
        "   test_labels_cat = keras.utils.to_categorical(y_test, num_classes)\n",
        "   print(\"Training the network...\")\n",
        "   t_start = time.time()\n",
        "   # Start training the network\n",
        "   model.fit(train_data, train_labels_cat, epochs=9, batch_size=64, verbose=1, validation_data=(test_data, test_labels_cat))"
      ],
      "execution_count": 5,
      "outputs": []
    },
    {
      "cell_type": "code",
      "metadata": {
        "colab": {
          "base_uri": "https://localhost:8080/"
        },
        "id": "1d0rMRTbyOe6",
        "outputId": "15044b4d-1bbe-44eb-d3ce-47e46af73453"
      },
      "source": [
        "model = mnist_make_model(image_w=28, image_h=28)\n",
        "mnist_mlp_train(model)\n",
        "model.save('mlp_digits_28x28.h5')"
      ],
      "execution_count": 31,
      "outputs": [
        {
          "output_type": "stream",
          "text": [
            "Training the network...\n",
            "Epoch 1/9\n",
            "938/938 [==============================] - 11s 12ms/step - loss: 0.2061 - accuracy: 0.9382 - val_loss: 0.1119 - val_accuracy: 0.9641\n",
            "Epoch 2/9\n",
            "938/938 [==============================] - 10s 11ms/step - loss: 0.0846 - accuracy: 0.9749 - val_loss: 0.0759 - val_accuracy: 0.9768\n",
            "Epoch 3/9\n",
            "938/938 [==============================] - 10s 11ms/step - loss: 0.0585 - accuracy: 0.9826 - val_loss: 0.0795 - val_accuracy: 0.9755\n",
            "Epoch 4/9\n",
            "938/938 [==============================] - 10s 11ms/step - loss: 0.0429 - accuracy: 0.9876 - val_loss: 0.0754 - val_accuracy: 0.9785\n",
            "Epoch 5/9\n",
            "938/938 [==============================] - 10s 11ms/step - loss: 0.0320 - accuracy: 0.9903 - val_loss: 0.0667 - val_accuracy: 0.9831\n",
            "Epoch 6/9\n",
            "938/938 [==============================] - 10s 11ms/step - loss: 0.0252 - accuracy: 0.9927 - val_loss: 0.0728 - val_accuracy: 0.9810\n",
            "Epoch 7/9\n",
            "938/938 [==============================] - 10s 11ms/step - loss: 0.0196 - accuracy: 0.9943 - val_loss: 0.0778 - val_accuracy: 0.9816\n",
            "Epoch 8/9\n",
            "938/938 [==============================] - 10s 11ms/step - loss: 0.0151 - accuracy: 0.9953 - val_loss: 0.0863 - val_accuracy: 0.9807\n",
            "Epoch 9/9\n",
            "938/938 [==============================] - 10s 11ms/step - loss: 0.0115 - accuracy: 0.9964 - val_loss: 0.0829 - val_accuracy: 0.9816\n"
          ],
          "name": "stdout"
        }
      ]
    },
    {
      "cell_type": "code",
      "metadata": {
        "id": "V-kS3wFl0QCd"
      },
      "source": [
        "def mlp_digits_predict(model, image_file):\n",
        "   image_size = 28\n",
        "   img = keras.preprocessing.image.load_img(image_file, target_size=(image_size, image_size), color_mode='grayscale')\n",
        "   img_arr = np.expand_dims(img, axis=0)\n",
        "   img_arr = 1 - img_arr/255.0\n",
        "   img_arr = img_arr.reshape((1, image_size*image_size))\n",
        "   result = np.argmax(model.predict([img_arr]), axis=1)\n",
        "   return result[0]"
      ],
      "execution_count": 6,
      "outputs": []
    },
    {
      "cell_type": "code",
      "metadata": {
        "id": "shuE7gWd5I6Q"
      },
      "source": [
        ""
      ],
      "execution_count": null,
      "outputs": []
    },
    {
      "cell_type": "code",
      "metadata": {
        "colab": {
          "base_uri": "https://localhost:8080/"
        },
        "id": "gnljGdN30Uzr",
        "outputId": "3af4f10f-29cb-477b-fe2c-270d89751d00"
      },
      "source": [
        "model = tf.keras.models.load_model('mlp_digits_28x28.h5')\n",
        "print(mlp_digits_predict(model, 'digit_0.png'))\n",
        "print(mlp_digits_predict(model, 'digit_1.png'))\n",
        "print(mlp_digits_predict(model, 'digit_3.png'))\n",
        "print(mlp_digits_predict(model, 'digit_8.png'))\n",
        "print(mlp_digits_predict(model, 'digit_9.png'))"
      ],
      "execution_count": 33,
      "outputs": [
        {
          "output_type": "stream",
          "text": [
            "0\n",
            "8\n",
            "3\n",
            "8\n",
            "4\n"
          ],
          "name": "stdout"
        }
      ]
    },
    {
      "cell_type": "code",
      "metadata": {
        "id": "IiqDxecd5Jm2"
      },
      "source": [
        ""
      ],
      "execution_count": null,
      "outputs": []
    },
    {
      "cell_type": "markdown",
      "metadata": {
        "id": "7eapknYt5s94"
      },
      "source": [
        "Сверточная сеть:"
      ]
    },
    {
      "cell_type": "code",
      "metadata": {
        "id": "W9v7EgLG5wxB"
      },
      "source": [
        "def mnist_cnn_model():\n",
        "   image_size = 28\n",
        "   num_channels = 1  # 1 for grayscale images\n",
        "   num_classes = 10  # Number of outputs\n",
        "   model = Sequential()\n",
        "   model.add(Conv2D(filters=32, kernel_size=(3,3), activation='relu', \n",
        "            padding='same', input_shape=(image_size, image_size, num_channels)))\n",
        "   model.add(MaxPooling2D(pool_size=(2, 2)))\n",
        "   model.add(Conv2D(filters=64, kernel_size=(3, 3), activation='relu',\n",
        "            padding='same'))\n",
        "   model.add(MaxPooling2D(pool_size=(2, 2)))\n",
        "   model.add(Conv2D(filters=64, kernel_size=(3, 3), activation='relu',\n",
        "            padding='same'))\n",
        "   model.add(MaxPooling2D(pool_size=(2, 2)))\n",
        "   model.add(Flatten())\n",
        "   # Densely connected layers\n",
        "   model.add(Dense(128, activation='relu'))\n",
        "   # Output layer\n",
        "   model.add(Dense(num_classes, activation='softmax'))\n",
        "   model.compile(optimizer=Adam(), loss='categorical_crossentropy',\n",
        "            metrics=['accuracy'])\n",
        "   return model"
      ],
      "execution_count": 7,
      "outputs": []
    },
    {
      "cell_type": "code",
      "metadata": {
        "id": "XOktF1UG6Hp3"
      },
      "source": [
        "def mnist_cnn_train(model):\n",
        "   (train_digits, train_labels), (test_digits, test_labels) = keras.datasets.mnist.load_data()\n",
        "\n",
        "   # Get image size\n",
        "   image_size = 28\n",
        "   num_channels = 1  # 1 for grayscale images\n",
        "\n",
        "   # re-shape and re-scale the images data\n",
        "   train_data = np.reshape(train_digits, (train_digits.shape[0], image_size, image_size, num_channels))\n",
        "   train_data = train_data.astype('float32') / 255.0\n",
        "   # encode the labels - we have 10 output classes\n",
        "   # 3 -> [0 0 0 1 0 0 0 0 0 0], 5 -> [0 0 0 0 0 1 0 0 0 0]\n",
        "   num_classes = 10\n",
        "   train_labels_cat = keras.utils.to_categorical(train_labels, num_classes)\n",
        "\n",
        "   # re-shape and re-scale the images validation data\n",
        "   val_data = np.reshape(test_digits, (test_digits.shape[0], image_size, image_size, num_channels))\n",
        "   val_data = val_data.astype('float32') / 255.0\n",
        "   # encode the labels - we have 10 output classes\n",
        "   val_labels_cat = keras.utils.to_categorical(test_labels, num_classes)\n",
        "\n",
        "   print(\"Training the network...\")\n",
        "   t_start = time.time()\n",
        "\n",
        "   # Start training the network\n",
        "   model.fit(train_data, train_labels_cat, epochs=8, batch_size=64,\n",
        "        validation_data=(val_data, val_labels_cat))\n",
        "\n",
        "   print(\"Done, dT:\", time.time() - t_start)\n",
        "\n",
        "   return model"
      ],
      "execution_count": 8,
      "outputs": []
    },
    {
      "cell_type": "code",
      "metadata": {
        "colab": {
          "base_uri": "https://localhost:8080/"
        },
        "id": "TBnL_e8D6QHA",
        "outputId": "cac45f1f-a118-464a-b0b2-2e12a2d6475d"
      },
      "source": [
        "model = mnist_cnn_model()\n",
        "mnist_cnn_train(model)\n",
        "model.save('cnn_digits_28x28.h5')"
      ],
      "execution_count": 9,
      "outputs": [
        {
          "output_type": "stream",
          "text": [
            "Downloading data from https://storage.googleapis.com/tensorflow/tf-keras-datasets/mnist.npz\n",
            "11493376/11490434 [==============================] - 0s 0us/step\n",
            "Training the network...\n",
            "Epoch 1/8\n",
            "938/938 [==============================] - 87s 92ms/step - loss: 0.1625 - accuracy: 0.9492 - val_loss: 0.0418 - val_accuracy: 0.9861\n",
            "Epoch 2/8\n",
            "938/938 [==============================] - 86s 92ms/step - loss: 0.0452 - accuracy: 0.9865 - val_loss: 0.0427 - val_accuracy: 0.9873\n",
            "Epoch 3/8\n",
            "938/938 [==============================] - 86s 91ms/step - loss: 0.0315 - accuracy: 0.9901 - val_loss: 0.0256 - val_accuracy: 0.9918\n",
            "Epoch 4/8\n",
            "938/938 [==============================] - 92s 98ms/step - loss: 0.0263 - accuracy: 0.9919 - val_loss: 0.0322 - val_accuracy: 0.9907\n",
            "Epoch 5/8\n",
            "938/938 [==============================] - 92s 98ms/step - loss: 0.0200 - accuracy: 0.9938 - val_loss: 0.0286 - val_accuracy: 0.9910\n",
            "Epoch 6/8\n",
            "938/938 [==============================] - 92s 98ms/step - loss: 0.0166 - accuracy: 0.9948 - val_loss: 0.0312 - val_accuracy: 0.9914\n",
            "Epoch 7/8\n",
            "938/938 [==============================] - 96s 102ms/step - loss: 0.0137 - accuracy: 0.9956 - val_loss: 0.0370 - val_accuracy: 0.9901\n",
            "Epoch 8/8\n",
            "938/938 [==============================] - 91s 97ms/step - loss: 0.0123 - accuracy: 0.9962 - val_loss: 0.0302 - val_accuracy: 0.9912\n",
            "Done, dT: 742.4303724765778\n"
          ],
          "name": "stdout"
        }
      ]
    },
    {
      "cell_type": "code",
      "metadata": {
        "id": "HKKASxmC6hWA"
      },
      "source": [
        "def cnn_digits_predict(model, image_file):\n",
        "   image_size = 28\n",
        "   img = keras.preprocessing.image.load_img(image_file, \n",
        "target_size=(image_size, image_size), color_mode='grayscale')\n",
        "   img_arr = np.expand_dims(img, axis=0)\n",
        "   img_arr = 1 - img_arr/255.0\n",
        "   img_arr = img_arr.reshape((1, 28, 28, 1))\n",
        "\n",
        "   result = np.argmax(model.predict([img_arr]), axis=1)\n",
        "   return result[0]"
      ],
      "execution_count": 11,
      "outputs": []
    },
    {
      "cell_type": "code",
      "metadata": {
        "colab": {
          "base_uri": "https://localhost:8080/"
        },
        "id": "V2zHA_cG8X3p",
        "outputId": "0858cef4-6746-4b93-d230-51a420588b67"
      },
      "source": [
        "model = tf.keras.models.load_model('cnn_digits_28x28.h5')\n",
        "print(cnn_digits_predict(model, 'digit_0.png'))\n",
        "print(cnn_digits_predict(model, 'digit_1.png'))\n",
        "print(cnn_digits_predict(model, 'digit_3.png'))\n",
        "print(cnn_digits_predict(model, 'digit_8.png'))\n",
        "print(cnn_digits_predict(model, 'digit_9.png'))\n",
        "print(cnn_digits_predict(model, 'digit_5.png'))\n",
        "print(cnn_digits_predict(model, 'digit_2.png'))\n",
        "print(cnn_digits_predict(model, 'digit_34.png'))"
      ],
      "execution_count": 13,
      "outputs": [
        {
          "output_type": "stream",
          "text": [
            "0\n",
            "1\n",
            "3\n",
            "8\n",
            "9\n",
            "5\n",
            "2\n",
            "4\n"
          ],
          "name": "stdout"
        }
      ]
    }
  ]
}